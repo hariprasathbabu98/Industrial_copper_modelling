{
  "cells": [
    {
      "cell_type": "code",
      "execution_count": null,
      "metadata": {
        "id": "AZ1wd3Omdzda"
      },
      "outputs": [],
      "source": [
        "#packages\n",
        "import pandas as pd\n",
        "import warnings\n",
        "warnings.filterwarnings(\"ignore\")\n",
        "from datetime import datetime, timedelta\n",
        "import numpy as np\n",
        "from sklearn.preprocessing import OrdinalEncoder\n",
        "import matplotlib.pyplot as plt\n",
        "import plotly as px\n",
        "import seaborn as sns"
      ]
    },
    {
      "cell_type": "code",
      "execution_count": null,
      "metadata": {
        "id": "WV2SVOVqj26_"
      },
      "outputs": [],
      "source": [
        "df= pd.read_csv(\"/content/Copper_Set.xlsx - Result 1 (1).csv\")"
      ]
    },
    {
      "cell_type": "code",
      "execution_count": null,
      "metadata": {
        "colab": {
          "base_uri": "https://localhost:8080/",
          "height": 947
        },
        "id": "WZjf7N4PkEWL",
        "outputId": "9cbcadf8-0100-43f0-b7de-8bfb9696afaf"
      },
      "outputs": [],
      "source": [
        "df"
      ]
    },
    {
      "cell_type": "code",
      "execution_count": null,
      "metadata": {
        "colab": {
          "base_uri": "https://localhost:8080/"
        },
        "id": "TTZ8N_1GmAmx",
        "outputId": "47572bf4-3217-45e7-cc83-d5bbcdcfa81c"
      },
      "outputs": [],
      "source": [
        "df.info()"
      ]
    },
    {
      "cell_type": "code",
      "execution_count": null,
      "metadata": {
        "colab": {
          "base_uri": "https://localhost:8080/"
        },
        "id": "G3Eqr2stn15D",
        "outputId": "91f94e03-de9c-4829-aa91-5ed85500428a"
      },
      "outputs": [],
      "source": [
        "#checking the null values in this dataframe\n",
        "df.isnull().sum()"
      ]
    },
    {
      "cell_type": "code",
      "execution_count": null,
      "metadata": {
        "colab": {
          "base_uri": "https://localhost:8080/"
        },
        "id": "E5KvJYu-nQb8",
        "outputId": "7c9b3c37-e0ed-40e8-8bf7-5c8e6660ea18"
      },
      "outputs": [],
      "source": [
        "#checking the unique values of the all columns\n",
        "\n",
        "for i in df.columns:\n",
        "  print(i,\":\",df[i].nunique())"
      ]
    },
    {
      "cell_type": "code",
      "execution_count": null,
      "metadata": {
        "colab": {
          "base_uri": "https://localhost:8080/"
        },
        "id": "oennaSpeo6Cf",
        "outputId": "a51a4640-0ab3-4ae6-a45c-e93da64055e4"
      },
      "outputs": [],
      "source": [
        "df.dtypes"
      ]
    },
    {
      "cell_type": "code",
      "execution_count": null,
      "metadata": {
        "id": "UKTMN0u1nlZe"
      },
      "outputs": [],
      "source": [
        "#converting the datatypes\n",
        "# item_dat, delivery date, quantity tons\n",
        "\n",
        "df[\"quantity tons\"]= pd.to_numeric(df[\"quantity tons\"],errors=\"coerce\")\n",
        "df[\"item_date_1\"]= pd.to_datetime(df[\"item_date\"],format=\"%Y%m%d\",errors=\"coerce\").dt.date\n",
        "df[\"delivery_date_1\"]= pd.to_datetime(df[\"delivery date\"],format=\"%Y%m%d\",errors=\"coerce\").dt.date"
      ]
    },
    {
      "cell_type": "code",
      "execution_count": null,
      "metadata": {
        "colab": {
          "base_uri": "https://localhost:8080/"
        },
        "id": "Q1ojNWsdnoWW",
        "outputId": "65dd5ace-6ab3-41cd-b859-9e7361c7517a"
      },
      "outputs": [],
      "source": [
        "df.info()"
      ]
    },
    {
      "cell_type": "code",
      "execution_count": null,
      "metadata": {
        "colab": {
          "base_uri": "https://localhost:8080/"
        },
        "id": "OWtQYpEqno3O",
        "outputId": "e9522749-b6d6-40ad-9261-c312e3ad03b6"
      },
      "outputs": [],
      "source": [
        "df.isnull().sum()"
      ]
    },
    {
      "cell_type": "code",
      "execution_count": null,
      "metadata": {
        "id": "_qLTRs2BnpFW"
      },
      "outputs": [],
      "source": [
        "#removing the \"00000\" datas in the \"material_ref\" column\n",
        "df[\"material_ref\"]=df[\"material_ref\"].apply(lambda x: np.nan if str(x).startswith(\"00000\") else x)"
      ]
    },
    {
      "cell_type": "code",
      "execution_count": null,
      "metadata": {
        "colab": {
          "base_uri": "https://localhost:8080/"
        },
        "id": "gA2rQotXnpgG",
        "outputId": "b22fd428-2d20-4b80-a0f8-6224e013c687"
      },
      "outputs": [],
      "source": [
        "df.isnull().sum()"
      ]
    },
    {
      "cell_type": "code",
      "execution_count": null,
      "metadata": {
        "id": "WYCkRcRQnpuw"
      },
      "outputs": [],
      "source": [
        "# \"material_ref\" have a maximum null values (55%) so, we want to drop the column\n",
        "# And id is a unique values so we want to drop the column\n",
        "\n",
        "df.drop(columns=[\"id\",\"material_ref\"],inplace=True)"
      ]
    },
    {
      "cell_type": "code",
      "execution_count": null,
      "metadata": {
        "colab": {
          "base_uri": "https://localhost:8080/"
        },
        "id": "_SFiRSi6np7X",
        "outputId": "2dfd4d07-ff97-4d1c-a32b-97e151b75e34"
      },
      "outputs": [],
      "source": [
        "df.isnull().sum()"
      ]
    },
    {
      "cell_type": "code",
      "execution_count": null,
      "metadata": {
        "colab": {
          "base_uri": "https://localhost:8080/",
          "height": 363
        },
        "id": "-3o5aOGCuqQO",
        "outputId": "64ca5f3c-8c20-4929-97de-0eeb978b1f3d"
      },
      "outputs": [],
      "source": [
        "df.describe().T"
      ]
    },
    {
      "cell_type": "code",
      "execution_count": null,
      "metadata": {
        "id": "VnTfKbP_urK1"
      },
      "outputs": [],
      "source": [
        "#quantity tons and selling_price have a negative values, This is impossible,\n",
        "# so we need to replace the negative values\n",
        "\n",
        "#converting the negative values into the null values\n",
        "df[\"quantity tons\"]= df[\"quantity tons\"].apply(lambda x: np.nan if x<=0 else x)\n",
        "df[\"selling_price\"]= df[\"selling_price\"].apply(lambda x: np.nan if x<=0 else x)"
      ]
    },
    {
      "cell_type": "code",
      "execution_count": null,
      "metadata": {
        "colab": {
          "base_uri": "https://localhost:8080/"
        },
        "id": "ZZ2R_RP3xzxP",
        "outputId": "86ff703a-9a83-4e29-9e7e-925e1dc2b843"
      },
      "outputs": [],
      "source": [
        "df.nunique()"
      ]
    },
    {
      "cell_type": "code",
      "execution_count": null,
      "metadata": {
        "colab": {
          "base_uri": "https://localhost:8080/"
        },
        "id": "pS_Y07amureQ",
        "outputId": "9c8d5246-f2a9-45a7-b3d2-d6eac83b82e5"
      },
      "outputs": [],
      "source": [
        "df.isnull().sum()"
      ]
    },
    {
      "cell_type": "markdown",
      "metadata": {
        "id": "oCldfYVfwwR4"
      },
      "source": [
        "# Handling the null values using mean(),median() and mode()"
      ]
    },
    {
      "cell_type": "code",
      "execution_count": null,
      "metadata": {
        "id": "SlkSazZAurpc"
      },
      "outputs": [],
      "source": [
        "# object columns and mode method\n",
        "df[\"item_date_1\"].fillna(df[\"item_date_1\"].mode().iloc[0],inplace=True)\n",
        "df[\"delivery_date_1\"].fillna(df[\"delivery_date_1\"].mode().iloc[0],inplace=True)\n",
        "df[\"status\"].fillna(df[\"status\"].mode().iloc[0],inplace=True)\n",
        "df[\"item_date\"]. fillna(df[\"item_date\"].mode().iloc[0],inplace=True)\n",
        "df[\"delivery date\"]. fillna(df[\"delivery date\"].mode().iloc[0],inplace=True)\n"
      ]
    },
    {
      "cell_type": "code",
      "execution_count": null,
      "metadata": {
        "colab": {
          "base_uri": "https://localhost:8080/"
        },
        "id": "yAZfzllvuryg",
        "outputId": "11b61c8b-5862-4072-9727-bb554db6b6e6"
      },
      "outputs": [],
      "source": [
        "df.isnull().sum()"
      ]
    },
    {
      "cell_type": "code",
      "execution_count": null,
      "metadata": {
        "id": "bl_AajenwWlC"
      },
      "outputs": [],
      "source": [
        "#numarical column and median()\n",
        "df[\"quantity tons\"].fillna(df[\"quantity tons\"].median(),inplace=True)\n",
        "df[\"customer\"].fillna(df[\"customer\"].median(),inplace=True)\n",
        "df[\"country\"].fillna(df[\"country\"].median(),inplace=True)\n",
        "df[\"application\"].fillna(df[\"application\"].median(),inplace=True)\n",
        "df[\"thickness\"].fillna(df[\"thickness\"].median(),inplace=True)\n",
        "df[\"selling_price\"].fillna(df[\"selling_price\"].median(),inplace=True)\n"
      ]
    },
    {
      "cell_type": "code",
      "execution_count": null,
      "metadata": {
        "colab": {
          "base_uri": "https://localhost:8080/"
        },
        "id": "xwA-MdjNwWzD",
        "outputId": "19617acb-5a90-48df-8ff5-76b0d0b1f930"
      },
      "outputs": [],
      "source": [
        "df.isnull().sum()"
      ]
    },
    {
      "cell_type": "markdown",
      "metadata": {
        "id": "lqf4UT2r4e38"
      },
      "source": [
        "# Encoding the catagorical columns"
      ]
    },
    {
      "cell_type": "code",
      "execution_count": null,
      "metadata": {
        "colab": {
          "base_uri": "https://localhost:8080/",
          "height": 244
        },
        "id": "ivFSu1vWwW_K",
        "outputId": "97830279-b085-45f9-91f7-8d948f1043b2"
      },
      "outputs": [],
      "source": [
        "df.head()"
      ]
    },
    {
      "cell_type": "code",
      "execution_count": null,
      "metadata": {
        "colab": {
          "base_uri": "https://localhost:8080/"
        },
        "id": "C8AO4VYvwrZ5",
        "outputId": "0ddfe8e1-0a85-45bc-9967-1f675928524d"
      },
      "outputs": [],
      "source": [
        "df[\"status\"].unique()"
      ]
    },
    {
      "cell_type": "code",
      "execution_count": null,
      "metadata": {
        "id": "Xm3T1ygO29qY"
      },
      "outputs": [],
      "source": [
        "df[\"status\"]= df[\"status\"].map({'Won':1, 'Draft':2, 'To be approved':3, 'Lost':0, 'Not lost for AM':4,\n",
        "                                'Wonderful':5, 'Revised':6, 'Offered':7, 'Offerable':8})"
      ]
    },
    {
      "cell_type": "code",
      "execution_count": null,
      "metadata": {
        "colab": {
          "base_uri": "https://localhost:8080/"
        },
        "id": "mywCeov964Jn",
        "outputId": "15e8e806-17a5-486b-c965-031d3eea356b"
      },
      "outputs": [],
      "source": [
        "df[\"status\"].unique()"
      ]
    },
    {
      "cell_type": "code",
      "execution_count": null,
      "metadata": {
        "id": "fHplidlX292o"
      },
      "outputs": [],
      "source": [
        "df[\"item type\"]= OrdinalEncoder().fit_transform(df[[\"item type\"]])"
      ]
    },
    {
      "cell_type": "code",
      "execution_count": null,
      "metadata": {
        "colab": {
          "base_uri": "https://localhost:8080/"
        },
        "id": "sLhHuybM7BOb",
        "outputId": "fc1c4b48-afdd-4b61-ea7b-2deb7b2e94d6"
      },
      "outputs": [],
      "source": [
        "df[\"item type\"].unique()"
      ]
    },
    {
      "cell_type": "code",
      "execution_count": null,
      "metadata": {
        "colab": {
          "base_uri": "https://localhost:8080/",
          "height": 426
        },
        "id": "9VsGl78B7PEd",
        "outputId": "cf6ea472-71f7-4ec5-8587-4ec5eb8c1af9"
      },
      "outputs": [],
      "source": [
        "df.describe().T"
      ]
    },
    {
      "cell_type": "code",
      "execution_count": null,
      "metadata": {
        "id": "XJw1wRgcSzer"
      },
      "outputs": [],
      "source": [
        "df.to_csv(\"Industrial_Copper_proper.csv\",index= False)"
      ]
    },
    {
      "cell_type": "markdown",
      "metadata": {
        "id": "yzO-gFGD8lu5"
      },
      "source": [
        "# Handling the skewness using (Log Transfermation)"
      ]
    },
    {
      "cell_type": "code",
      "execution_count": null,
      "metadata": {
        "id": "ZD3kE8d58TUg"
      },
      "outputs": [],
      "source": [
        "# detecting the skewed columns using plot\n",
        "def plot(df,column):\n",
        "  #distplot\n",
        "  plt.figure(figsize=(15,4))\n",
        "  plt.subplot(1,3,1)\n",
        "  sns.distplot(df[column])\n",
        "  plt.title(\"distplot for\"+\" \"+column)\n",
        "\n",
        "  #histogram plot\n",
        "\n",
        "  plt.subplot(1,3,2)\n",
        "  sns.histplot(df, x= column, kde= True, bins=30,color=\"salmon\")\n",
        "  plt.title(\"histogram plot for\"+\" \"+column)\n",
        "\n",
        "  #boxplot\n",
        "\n",
        "  plt.subplot(1,3,3)\n",
        "  sns.boxplot(df, x=column)\n",
        "  plt.title(\"Box plot for\"+\" \"+column)"
      ]
    },
    {
      "cell_type": "code",
      "execution_count": null,
      "metadata": {
        "id": "V1L2fBIlEFQP"
      },
      "outputs": [],
      "source": [
        "skewed_columns=['quantity tons', 'customer', 'country', 'status',\n",
        "                'item type', 'application', 'thickness', 'width', 'product_ref',\n",
        "                'selling_price']"
      ]
    },
    {
      "cell_type": "code",
      "execution_count": null,
      "metadata": {
        "colab": {
          "base_uri": "https://localhost:8080/",
          "height": 1000
        },
        "id": "0wIg6lAn-io-",
        "outputId": "a1601848-ace6-4b02-8af2-92b5571a123d"
      },
      "outputs": [],
      "source": [
        "for i in skewed_columns:\n",
        "  plot(df,i)"
      ]
    },
    {
      "cell_type": "code",
      "execution_count": null,
      "metadata": {
        "id": "3q8TtJMFK7QJ"
      },
      "outputs": [],
      "source": [
        "#Skewed columns:\n",
        "# 1.quantity tons\n",
        "# 2.customer\n",
        "# 3.thickness\n",
        "# 4.selling_price"
      ]
    },
    {
      "cell_type": "code",
      "execution_count": null,
      "metadata": {
        "id": "LBdoTdkf-jH4"
      },
      "outputs": [],
      "source": [
        "df1= df.copy()"
      ]
    },
    {
      "cell_type": "code",
      "execution_count": null,
      "metadata": {
        "colab": {
          "base_uri": "https://localhost:8080/"
        },
        "id": "LaUOKYRLNhgf",
        "outputId": "3a19e448-762f-47f7-a994-134c55e4936e"
      },
      "outputs": [],
      "source": [
        "df1.columns"
      ]
    },
    {
      "cell_type": "code",
      "execution_count": null,
      "metadata": {
        "id": "m3kupVN0-jPf"
      },
      "outputs": [],
      "source": [
        "df1[\"quantity_tons_log\"]= np.log(df1[\"quantity tons\"])\n",
        "df1[\"customer_log\"]= np.log(df1[\"customer\"])\n",
        "df1[\"thickness_log\"]= np.log(df1[\"thickness\"])\n",
        "df1[\"selling_price_log\"]= np.log(df1[\"selling_price\"])"
      ]
    },
    {
      "cell_type": "code",
      "execution_count": null,
      "metadata": {
        "colab": {
          "base_uri": "https://localhost:8080/",
          "height": 1000
        },
        "id": "5syBpsoy-jVp",
        "outputId": "e3289dd2-2a88-437c-a807-053e50819743"
      },
      "outputs": [],
      "source": [
        "skwed_columns_2=[\"quantity_tons_log\",\"customer_log\",\"thickness_log\",\"selling_price_log\"]\n",
        "for i in skwed_columns_2:\n",
        "  plot(df1,i)"
      ]
    },
    {
      "cell_type": "markdown",
      "metadata": {
        "id": "bZqBB9bOO8aa"
      },
      "source": [
        "# Outliers Handling - Interquartile Range(IQR) Method"
      ]
    },
    {
      "cell_type": "code",
      "execution_count": null,
      "metadata": {
        "id": "S6a3gxo5O152"
      },
      "outputs": [],
      "source": [
        "df2= df1.copy()"
      ]
    },
    {
      "cell_type": "code",
      "execution_count": null,
      "metadata": {
        "colab": {
          "base_uri": "https://localhost:8080/",
          "height": 244
        },
        "id": "pF_IRb6sRTGs",
        "outputId": "421298e2-856b-4d43-e2c8-3403b1ea5c83"
      },
      "outputs": [],
      "source": [
        "df2.head()"
      ]
    },
    {
      "cell_type": "code",
      "execution_count": null,
      "metadata": {
        "id": "eMZS7PAERsvM"
      },
      "outputs": [],
      "source": [
        "def outlier(df,column):\n",
        "  q1= df[column].quantile(0.25)\n",
        "  q3= df[column].quantile(0.75)\n",
        "\n",
        "  iqr= q3-q1\n",
        "\n",
        "  upper_threshold= q3 + (1.5*iqr)\n",
        "  lower_threshold= q1 - (1.5*iqr)\n",
        "\n",
        "  df[column]= df[column].clip(lower_threshold, upper_threshold)"
      ]
    },
    {
      "cell_type": "code",
      "execution_count": null,
      "metadata": {
        "id": "U38-JYghTFyq"
      },
      "outputs": [],
      "source": [
        "# (Ex: lower threshold = 5 and upper threshold = 20)\n",
        "# above upper threshold values (>20) are converted to upper threshold value (20) in features\n",
        "# below lower threshold values (<5)  are converted to lower threshold value (5)  in features"
      ]
    },
    {
      "cell_type": "code",
      "execution_count": null,
      "metadata": {
        "colab": {
          "base_uri": "https://localhost:8080/",
          "height": 551
        },
        "id": "9VSJl0TaTGSj",
        "outputId": "1cc129d5-5eaf-480d-8aa7-5552e2f1c9ee"
      },
      "outputs": [],
      "source": [
        "df2.describe().T"
      ]
    },
    {
      "cell_type": "code",
      "execution_count": null,
      "metadata": {
        "colab": {
          "base_uri": "https://localhost:8080/"
        },
        "id": "JAskGu4gT8Rq",
        "outputId": "37c8238f-aa5b-4315-af35-ac4637da3a7c"
      },
      "outputs": [],
      "source": [
        "df2.columns"
      ]
    },
    {
      "cell_type": "code",
      "execution_count": null,
      "metadata": {
        "id": "4Klg3350TGrT"
      },
      "outputs": [],
      "source": [
        "outlier_columns= ['quantity_tons_log', 'customer_log', 'thickness_log','selling_price_log','width','application']\n",
        "for i in outlier_columns:\n",
        "  outlier(df2,i)"
      ]
    },
    {
      "cell_type": "code",
      "execution_count": null,
      "metadata": {
        "colab": {
          "base_uri": "https://localhost:8080/",
          "height": 551
        },
        "id": "FIlB21MzWItA",
        "outputId": "0487ff35-1398-4377-f770-a7b2233550e6"
      },
      "outputs": [],
      "source": [
        "df2.describe().T"
      ]
    },
    {
      "cell_type": "code",
      "execution_count": null,
      "metadata": {
        "colab": {
          "base_uri": "https://localhost:8080/",
          "height": 1000
        },
        "id": "gh8Iq_NsTG6W",
        "outputId": "293caac5-833d-40a6-8e70-6420a1959253"
      },
      "outputs": [],
      "source": [
        "for i in outlier_columns:\n",
        "  plot(df2,i)"
      ]
    },
    {
      "cell_type": "code",
      "execution_count": null,
      "metadata": {
        "id": "ljlCZLLmTHBE"
      },
      "outputs": [],
      "source": [
        "#Droping the unwanted skewed columns\n",
        "#Skewed columns:\n",
        "# 1.quantity tons\n",
        "# 2.customer\n",
        "# 3.thickness\n",
        "# 4.selling_price\n",
        "\n",
        "df3= df2.drop(columns=[\"quantity tons\",\"customer\",\"thickness\",\"selling_price\"])"
      ]
    },
    {
      "cell_type": "code",
      "execution_count": null,
      "metadata": {
        "colab": {
          "base_uri": "https://localhost:8080/",
          "height": 244
        },
        "id": "3cEIWbyoWA8S",
        "outputId": "4034bbb9-3b79-4db2-e921-57bfaaa0d375"
      },
      "outputs": [],
      "source": [
        "df3.head()"
      ]
    },
    {
      "cell_type": "code",
      "execution_count": null,
      "metadata": {
        "colab": {
          "base_uri": "https://localhost:8080/",
          "height": 406
        },
        "id": "bGGxQ3vIWBGw",
        "outputId": "a3276f70-da57-4023-974c-289d7a0a0e30"
      },
      "outputs": [],
      "source": [
        "#Checking the correlation with using the heatmap\n",
        "\n",
        "corr= df3.drop(columns=[\"item_date\",\"delivery date\",\"item_date_1\",\"delivery_date_1\"]).corr()\n",
        "plt.figure(figsize=(10,3))\n",
        "sns.heatmap(corr, annot= True, fmt=\"0.2f\")\n",
        "plt.show()"
      ]
    },
    {
      "cell_type": "code",
      "execution_count": null,
      "metadata": {
        "id": "lJbPrX3AWBQA"
      },
      "outputs": [],
      "source": [
        "# the high correlations are \"-0.42\", \"0.40\", \"-0.32\", \"-0.20\",\"0.23\""
      ]
    },
    {
      "cell_type": "markdown",
      "metadata": {
        "id": "4z4S8_LjICdP"
      },
      "source": [
        "# **Wrong delivery date handling using ML prediction**"
      ]
    },
    {
      "cell_type": "code",
      "execution_count": null,
      "metadata": {
        "id": "zroAgMI3WBZF"
      },
      "outputs": [],
      "source": [
        "df4= df3.copy()"
      ]
    },
    {
      "cell_type": "code",
      "execution_count": null,
      "metadata": {
        "colab": {
          "base_uri": "https://localhost:8080/",
          "height": 244
        },
        "id": "RRLnybrnWBhR",
        "outputId": "a45a5218-3ff3-4499-913d-84de1c01cff2"
      },
      "outputs": [],
      "source": [
        "df4.head()"
      ]
    },
    {
      "cell_type": "code",
      "execution_count": null,
      "metadata": {
        "colab": {
          "base_uri": "https://localhost:8080/"
        },
        "id": "pB9ibtGYWBqP",
        "outputId": "555ccb50-cc06-4313-b133-d94697d6fedc"
      },
      "outputs": [],
      "source": [
        "df4.dtypes"
      ]
    },
    {
      "cell_type": "code",
      "execution_count": null,
      "metadata": {
        "id": "LXsquRnRWBza"
      },
      "outputs": [],
      "source": [
        "#converting the datatype (object to datetime format)\n",
        "df4[\"delivery_date_1\"]= pd.to_datetime(df4[\"delivery_date_1\"])\n",
        "df4[\"item_date_1\"]= pd.to_datetime(df4[\"item_date_1\"])"
      ]
    },
    {
      "cell_type": "code",
      "execution_count": null,
      "metadata": {
        "id": "i-C8xE_kI5No"
      },
      "outputs": [],
      "source": [
        "#identifying the difference of the \"delivery date\" and the \"item date\"\n",
        "df4[\"date_differ\"]= (df4[\"delivery_date_1\"]-df4[\"item_date_1\"]).dt.days"
      ]
    },
    {
      "cell_type": "code",
      "execution_count": null,
      "metadata": {
        "colab": {
          "base_uri": "https://localhost:8080/"
        },
        "id": "gVTZ9OPXI5VI",
        "outputId": "3ac442be-2d36-4f8e-d455-f0805a2b1a66"
      },
      "outputs": [],
      "source": [
        "df4[\"date_differ\"]"
      ]
    },
    {
      "cell_type": "code",
      "execution_count": null,
      "metadata": {
        "id": "k8GF3b3BI5eB"
      },
      "outputs": [],
      "source": [
        "# some values have a negative values\n",
        "# it's mean the \"delivery date provides , the previous date then the \"item date\"\n",
        "# so this is not possible , so we want to predic the delivery date for the some datas"
      ]
    },
    {
      "cell_type": "code",
      "execution_count": null,
      "metadata": {
        "id": "JW-wjnblK3BQ"
      },
      "outputs": [],
      "source": [
        "#creating the another 3 columns using the \"item_date_1\"\n",
        "# it is usefull for the delivery date prediction\n",
        "df4[\"item_date_day\"]= df4[\"item_date_1\"].dt.day\n",
        "df4[\"item_date_month\"]= df4[\"item_date_1\"].dt.month\n",
        "df4[\"item_date_year\"]= df4[\"item_date_1\"].dt.year"
      ]
    },
    {
      "cell_type": "code",
      "execution_count": null,
      "metadata": {
        "colab": {
          "base_uri": "https://localhost:8080/",
          "height": 244
        },
        "id": "KE8iRxrAMTKP",
        "outputId": "6e6177cc-581f-4428-8eb1-66d54e602bb4"
      },
      "outputs": [],
      "source": [
        "df4.head()"
      ]
    },
    {
      "cell_type": "code",
      "execution_count": null,
      "metadata": {
        "id": "wZWLRNEMMTZd"
      },
      "outputs": [],
      "source": [
        "#separating the posive values(pv) dataframe and negative values(nv) dataframe based on the \"date_differ\" column\n",
        "df4_pv= df4[df4[\"date_differ\"]>=0]\n",
        "df4_pv.reset_index(drop= True, inplace= True)"
      ]
    },
    {
      "cell_type": "code",
      "execution_count": null,
      "metadata": {
        "colab": {
          "base_uri": "https://localhost:8080/",
          "height": 244
        },
        "id": "MR0wq8TxMTjs",
        "outputId": "02433c27-63b5-4273-e517-81d1c9ebd94c"
      },
      "outputs": [],
      "source": [
        "df4_pv.tail()"
      ]
    },
    {
      "cell_type": "code",
      "execution_count": null,
      "metadata": {
        "id": "ERuWypHXMTzd"
      },
      "outputs": [],
      "source": [
        "df4_nv= df4[df4[\"date_differ\"]<0]\n",
        "df4_nv.reset_index(drop= True, inplace= True)"
      ]
    },
    {
      "cell_type": "code",
      "execution_count": null,
      "metadata": {
        "colab": {
          "base_uri": "https://localhost:8080/",
          "height": 244
        },
        "id": "kVldc-hfOI5z",
        "outputId": "392c6a36-7729-40d2-c441-077dee864c5e"
      },
      "outputs": [],
      "source": [
        "df4_nv.tail()"
      ]
    },
    {
      "cell_type": "code",
      "execution_count": null,
      "metadata": {
        "id": "BOX9i62GVcOi"
      },
      "outputs": [],
      "source": [
        "# now we want to create the model for delivery date prediction\n",
        "# importing the model\n",
        "from sklearn.model_selection import train_test_split\n",
        "from sklearn.metrics import r2_score,mean_squared_error,mean_absolute_error\n",
        "from sklearn.tree import DecisionTreeRegressor\n",
        "from sklearn.ensemble import RandomForestRegressor\n",
        "from sklearn.ensemble import AdaBoostRegressor\n",
        "from sklearn.ensemble import ExtraTreesRegressor\n",
        "from sklearn.ensemble import GradientBoostingRegressor\n",
        "from xgboost import XGBRegressor"
      ]
    },
    {
      "cell_type": "code",
      "execution_count": null,
      "metadata": {
        "colab": {
          "base_uri": "https://localhost:8080/"
        },
        "id": "bww1rH9TXprl",
        "outputId": "1e348296-6c98-43f4-edc4-39bbdabffa75"
      },
      "outputs": [],
      "source": [
        "df4_pv.columns"
      ]
    },
    {
      "cell_type": "code",
      "execution_count": null,
      "metadata": {
        "id": "9o9FinK2Wo8d"
      },
      "outputs": [],
      "source": [
        "#Find the best algorithm for the \"delivery date\" prediction\n",
        "\n",
        "def accuracy_date_prediction(df, algorithm):\n",
        "  x= df.drop(columns=[\"item_date_1\", \"delivery_date_1\", \"date_differ\"])\n",
        "  y= df[\"date_differ\"]\n",
        "\n",
        "  #teain test splitting\n",
        "  x_train, x_test, y_train, y_test= train_test_split(x,y, test_size= 0.2, random_state=42)\n",
        "\n",
        "  model= algorithm().fit(x_train,y_train)\n",
        "  y_pred= model.predict(x_test)\n",
        "\n",
        "  #checking the accuracy score\n",
        "  mse= mean_squared_error(y_test, y_pred)\n",
        "  rmse= np.sqrt(mse)\n",
        "  mae= mean_absolute_error(y_test,y_pred)\n",
        "  r2= r2_score(y_test, y_pred)\n",
        "\n",
        "  metrics={\"R2_score\":r2,\n",
        "           \"Mean_squared_error\":mse,\n",
        "           \"Root_mean_squared_error\":rmse,\n",
        "           \"Mean_absolute_error\":mae,\n",
        "           }\n",
        "  return metrics\n"
      ]
    },
    {
      "cell_type": "code",
      "execution_count": null,
      "metadata": {
        "colab": {
          "base_uri": "https://localhost:8080/"
        },
        "id": "UOdsMwieWpGv",
        "outputId": "1cd15b81-60fd-4cba-fa6b-e1f195da9606"
      },
      "outputs": [],
      "source": [
        "print(accuracy_date_prediction(df4_pv,DecisionTreeRegressor))\n",
        "print(accuracy_date_prediction(df4_pv,RandomForestRegressor))\n",
        "print(accuracy_date_prediction(df4_pv,ExtraTreesRegressor))\n",
        "print(accuracy_date_prediction(df4_pv,GradientBoostingRegressor))\n",
        "print(accuracy_date_prediction(df4_pv,AdaBoostRegressor))\n",
        "print(accuracy_date_prediction(df4_pv,XGBRegressor))"
      ]
    },
    {
      "cell_type": "code",
      "execution_count": null,
      "metadata": {
        "id": "9F88N800WpTL"
      },
      "outputs": [],
      "source": [
        "# Random Forest algorithm is low bias and reduce overfitting compared to others."
      ]
    },
    {
      "cell_type": "code",
      "execution_count": null,
      "metadata": {
        "id": "enPaGPJKWpqg"
      },
      "outputs": [],
      "source": [
        "# Model for the RandomForest\n",
        "\n",
        "def RandomForest(train_df, test_df):\n",
        "\n",
        "  x= train_df.drop(columns=[\"item_date_1\", \"delivery_date_1\", \"date_differ\"])\n",
        "  y= train_df[\"date_differ\"]\n",
        "\n",
        "  #train test splitting\n",
        "  x_train, x_test, y_train, y_test= train_test_split(x,y, test_size= 0.2, random_state=42)\n",
        "  model= RandomForestRegressor().fit(x_train, y_train)\n",
        "\n",
        "  data= test_df.drop(columns=[\"item_date_1\", \"delivery_date_1\", \"date_differ\"])\n",
        "\n",
        "  y_pred=model.predict(data)\n",
        "\n",
        "  return y_pred\n"
      ]
    },
    {
      "cell_type": "code",
      "execution_count": null,
      "metadata": {
        "id": "cJAnryzxiPYP"
      },
      "outputs": [],
      "source": [
        "date_difference= RandomForest(df4_pv,df4_nv)"
      ]
    },
    {
      "cell_type": "code",
      "execution_count": null,
      "metadata": {
        "colab": {
          "base_uri": "https://localhost:8080/"
        },
        "id": "fEoAbwJ8kdjP",
        "outputId": "049399fe-d159-489a-c72c-13ad92a949c9"
      },
      "outputs": [],
      "source": [
        "date_difference"
      ]
    },
    {
      "cell_type": "code",
      "execution_count": null,
      "metadata": {
        "id": "mMNMn6NVn_jp"
      },
      "outputs": [],
      "source": [
        "# changing the \"date_differ\" datatype float into int\n",
        "date_difference_1= []\n",
        "for i in date_difference:\n",
        "  dd= int(round(i,0))\n",
        "  date_difference_1.append(dd)\n"
      ]
    },
    {
      "cell_type": "code",
      "execution_count": null,
      "metadata": {
        "id": "AT_tAECnrfAq"
      },
      "outputs": [],
      "source": [
        "df4_nv[\"date_differ\"]= pd.DataFrame(date_difference_1)"
      ]
    },
    {
      "cell_type": "code",
      "execution_count": null,
      "metadata": {
        "colab": {
          "base_uri": "https://localhost:8080/"
        },
        "id": "x2hqPs54tHHl",
        "outputId": "cfe50d5c-fb6d-4843-bb11-d69e17076cac"
      },
      "outputs": [],
      "source": [
        "df4_nv.isnull().sum()"
      ]
    },
    {
      "cell_type": "code",
      "execution_count": null,
      "metadata": {
        "id": "oLJECfE2wt4U"
      },
      "outputs": [],
      "source": [
        "#find the delivery date using \"item_date_1\" and \"date_differ\"\n",
        "\n",
        "def find_delivery_date(item_date, date_differ):\n",
        "  date= item_date + pd.to_timedelta(date_differ,unit= \"D\")\n",
        "  return date"
      ]
    },
    {
      "cell_type": "code",
      "execution_count": null,
      "metadata": {
        "id": "Yrn8wk9pyUl_"
      },
      "outputs": [],
      "source": [
        "df4_nv[\"delivery_date_1\"]= find_delivery_date(df4_nv[\"item_date_1\"],df4_nv[\"date_differ\"])"
      ]
    },
    {
      "cell_type": "code",
      "execution_count": null,
      "metadata": {
        "id": "TDNERLEw0C7f"
      },
      "outputs": [],
      "source": [
        "# Concadinating the two dataframes(df4_pv,df4_nv) based on the rows\n",
        "df_final=pd.concat([df4_pv,df4_nv],axis=0,ignore_index=True)"
      ]
    },
    {
      "cell_type": "code",
      "execution_count": null,
      "metadata": {
        "colab": {
          "base_uri": "https://localhost:8080/",
          "height": 244
        },
        "id": "PJBuGklU0jMl",
        "outputId": "eb5bda62-fc8c-4960-8e9b-8e6628b06334"
      },
      "outputs": [],
      "source": [
        "df_final.tail()"
      ]
    },
    {
      "cell_type": "code",
      "execution_count": null,
      "metadata": {
        "id": "1RCJSOrd0r2K"
      },
      "outputs": [],
      "source": [
        "# Now we create the three new columns using the \"delivery_date_1\"\n",
        "df_final['delivery_date_day']= df_final[\"delivery_date_1\"].dt.day\n",
        "df_final['delivery_date_month']= df_final[\"delivery_date_1\"].dt.month\n",
        "df_final['delivery_date_year']= df_final[\"delivery_date_1\"].dt.year"
      ]
    },
    {
      "cell_type": "code",
      "execution_count": null,
      "metadata": {
        "colab": {
          "base_uri": "https://localhost:8080/",
          "height": 179
        },
        "id": "C3BcrMQ11fZ-",
        "outputId": "a78fdf5b-f8c1-47f3-bf66-f3736cf095af"
      },
      "outputs": [],
      "source": [
        "df_final.head(2)"
      ]
    },
    {
      "cell_type": "code",
      "execution_count": null,
      "metadata": {
        "colab": {
          "base_uri": "https://localhost:8080/"
        },
        "id": "t1zBmxEu1274",
        "outputId": "4b50e3e7-b2a8-49ec-a49b-d7439ff8d56d"
      },
      "outputs": [],
      "source": [
        "df_final.columns"
      ]
    },
    {
      "cell_type": "code",
      "execution_count": null,
      "metadata": {
        "id": "Q_gbo6RP1vIA"
      },
      "outputs": [],
      "source": [
        "# Droping the unwanted columns\n",
        "df_final.drop(columns=[\"item_date\",\"delivery date\",\"item_date_1\",\"delivery_date_1\",\"date_differ\"],inplace=True)"
      ]
    },
    {
      "cell_type": "code",
      "execution_count": null,
      "metadata": {
        "colab": {
          "base_uri": "https://localhost:8080/"
        },
        "id": "fs0RdEqU2V1Z",
        "outputId": "bb1b64fd-74ef-4a6d-e63d-bf351b0e147b"
      },
      "outputs": [],
      "source": [
        "df_final.columns"
      ]
    },
    {
      "cell_type": "code",
      "execution_count": null,
      "metadata": {
        "id": "OUeCFq8531Tl"
      },
      "outputs": [],
      "source": [
        "# Saveing the dataframe\n",
        "#df_final.to_csv(\"Industrial_Copper_Colab.csv\",index= False)"
      ]
    },
    {
      "cell_type": "code",
      "execution_count": null,
      "metadata": {
        "id": "efxYXVy-IFMB"
      },
      "outputs": [],
      "source": [
        "import pandas as pd"
      ]
    },
    {
      "cell_type": "code",
      "execution_count": null,
      "metadata": {
        "id": "aDSOW3vo4qtQ"
      },
      "outputs": [],
      "source": [
        "# Reading the saved \"csv\" file\n",
        "df_final= pd.read_csv(\"/content/Industrial_Copper_Colab.csv\")"
      ]
    },
    {
      "cell_type": "code",
      "execution_count": null,
      "metadata": {
        "id": "2v4PjKDs5AgP"
      },
      "outputs": [],
      "source": [
        "# This DataFrame don't have any null values and catagorical columns\n",
        "# so our dataset is ready to the ML prediction"
      ]
    },
    {
      "cell_type": "markdown",
      "metadata": {
        "id": "cCBYg0E65qwe"
      },
      "source": [
        "# **Classification Method - Predict (Won/Lose)**"
      ]
    },
    {
      "cell_type": "code",
      "execution_count": null,
      "metadata": {
        "id": "6RJwoHB7ZFbj"
      },
      "outputs": [],
      "source": [
        "#packages\n",
        "from sklearn.model_selection import train_test_split,GridSearchCV\n",
        "from sklearn.metrics import accuracy_score,auc,roc_curve,confusion_matrix,classification_report\n",
        "\n",
        "from sklearn.tree import DecisionTreeClassifier\n",
        "from sklearn.ensemble import RandomForestClassifier\n",
        "from sklearn.ensemble import ExtraTreesClassifier\n",
        "from sklearn.ensemble import AdaBoostClassifier\n",
        "from sklearn.ensemble import GradientBoostingClassifier\n",
        "from xgboost import XGBClassifier\n",
        "\n",
        "from imblearn.combine import SMOTETomek\n",
        "\n",
        "import pickle"
      ]
    },
    {
      "cell_type": "code",
      "execution_count": null,
      "metadata": {
        "id": "fhLGXBEVZLNb"
      },
      "outputs": [],
      "source": [
        "df_class= df_final.copy()"
      ]
    },
    {
      "cell_type": "code",
      "execution_count": null,
      "metadata": {
        "id": "4cl7Ed_lZLdx"
      },
      "outputs": [],
      "source": [
        "# filter the status column only want to be a (won& loss)\n",
        "df_c= df_class[(df_class[\"status\"] == 1) | (df_class[\"status\"] == 0)]"
      ]
    },
    {
      "cell_type": "code",
      "execution_count": null,
      "metadata": {
        "colab": {
          "base_uri": "https://localhost:8080/",
          "height": 244
        },
        "id": "V3vuox_we1Ex",
        "outputId": "c1f8e5bb-7c96-4022-c9bc-0377ee0e9c5b"
      },
      "outputs": [],
      "source": [
        "df_c.tail()"
      ]
    },
    {
      "cell_type": "code",
      "execution_count": null,
      "metadata": {
        "colab": {
          "base_uri": "https://localhost:8080/"
        },
        "id": "TR8VcGJ1fQ0A",
        "outputId": "43e15047-dc30-4022-ee26-6efa6c7dd668"
      },
      "outputs": [],
      "source": [
        "df_c[\"status\"].value_counts()"
      ]
    },
    {
      "cell_type": "code",
      "execution_count": null,
      "metadata": {
        "id": "fjW5oMvPfl2m"
      },
      "outputs": [],
      "source": [
        "# This is a imbalanced data\n",
        "# so we want to resampling the data by usin the \"SMOTETomek\""
      ]
    },
    {
      "cell_type": "code",
      "execution_count": null,
      "metadata": {
        "colab": {
          "base_uri": "https://localhost:8080/"
        },
        "id": "I__htRyigpK8",
        "outputId": "f128318a-f862-48e1-9493-a396a39d96db"
      },
      "outputs": [],
      "source": [
        "df_c.columns"
      ]
    },
    {
      "cell_type": "code",
      "execution_count": null,
      "metadata": {
        "id": "p-xkZr92gKIT"
      },
      "outputs": [],
      "source": [
        "x= df_c.drop(columns=[\"status\"],axis=1)\n",
        "y= df_c[\"status\"]"
      ]
    },
    {
      "cell_type": "code",
      "execution_count": null,
      "metadata": {
        "colab": {
          "base_uri": "https://localhost:8080/"
        },
        "id": "lDHO5dfphMpb",
        "outputId": "3a40c934-f2ee-4a3d-9deb-3bc2d5b19a7b"
      },
      "outputs": [],
      "source": [
        "x.shape,y.shape"
      ]
    },
    {
      "cell_type": "code",
      "execution_count": null,
      "metadata": {
        "id": "K1YnjXp-gKce"
      },
      "outputs": [],
      "source": [
        "x_new,y_new= SMOTETomek().fit_resample(x,y)"
      ]
    },
    {
      "cell_type": "code",
      "execution_count": null,
      "metadata": {
        "colab": {
          "base_uri": "https://localhost:8080/"
        },
        "id": "HqEgChU8gKxm",
        "outputId": "0f87a64d-f470-4d2e-da34-0a5ab7726b65"
      },
      "outputs": [],
      "source": [
        "x_new.shape,y_new.shape"
      ]
    },
    {
      "cell_type": "code",
      "execution_count": null,
      "metadata": {
        "colab": {
          "base_uri": "https://localhost:8080/"
        },
        "id": "n7hiQa2ngK-z",
        "outputId": "3dbcf2ad-c43d-4df0-ef2b-e3f7a5276e3b"
      },
      "outputs": [],
      "source": [
        "y_new.value_counts()"
      ]
    },
    {
      "cell_type": "code",
      "execution_count": null,
      "metadata": {
        "id": "TLaUsIxdgLMJ"
      },
      "outputs": [],
      "source": [
        "# now the data is balanced\n",
        "# so, we continue the ML prediction"
      ]
    },
    {
      "cell_type": "code",
      "execution_count": null,
      "metadata": {
        "id": "Ybr69_dwiGsF"
      },
      "outputs": [],
      "source": [
        "# find the best algorithm for the classification prediction\n",
        "\n",
        "def accuracy_checking(x_data, y_data, algorithm):\n",
        "  #train test splitting\n",
        "  x_train, x_test, y_train, y_test= train_test_split(x_data, y_data, test_size= 0.2, random_state=42)\n",
        "\n",
        "  model= algorithm().fit(x_train, y_train)\n",
        "\n",
        "  y_pred_train= model.predict(x_train)\n",
        "  y_pred_test= model.predict(x_test)\n",
        "\n",
        "  #checking the accuracy_score\n",
        "  accuracy_train= accuracy_score(y_train, y_pred_train)\n",
        "  accuracy_test= accuracy_score(y_test, y_pred_test)\n",
        "\n",
        "  metrics={\"Algorithm\": algorithm.__name__,\n",
        "           \"Accuracy_Train\": accuracy_train,\n",
        "           \"Accuracy_Test\": accuracy_test}\n",
        "  return metrics\n",
        "\n"
      ]
    },
    {
      "cell_type": "code",
      "execution_count": null,
      "metadata": {
        "colab": {
          "base_uri": "https://localhost:8080/"
        },
        "id": "SqR7KbrGmfB4",
        "outputId": "069b4ca3-b5fe-4263-9502-3d0ad7ed056b"
      },
      "outputs": [],
      "source": [
        "print(accuracy_checking(x,y,DecisionTreeClassifier))\n",
        "print(accuracy_checking(x,y,RandomForestClassifier))\n",
        "print(accuracy_checking(x,y,ExtraTreesClassifier))\n",
        "print(accuracy_checking(x,y,AdaBoostClassifier))\n",
        "print(accuracy_checking(x,y,GradientBoostingClassifier))\n",
        "print(accuracy_checking(x,y,XGBClassifier))"
      ]
    },
    {
      "cell_type": "code",
      "execution_count": null,
      "metadata": {
        "colab": {
          "base_uri": "https://localhost:8080/"
        },
        "id": "Pq--q1TypCfW",
        "outputId": "3704fe08-b354-4097-aa0c-4753a5427d6b"
      },
      "outputs": [],
      "source": [
        "print(accuracy_checking(x_new,y_new,DecisionTreeClassifier))\n",
        "print(accuracy_checking(x_new,y_new,RandomForestClassifier))\n",
        "print(accuracy_checking(x_new,y_new,ExtraTreesClassifier))\n",
        "print(accuracy_checking(x_new,y_new,AdaBoostClassifier))\n",
        "print(accuracy_checking(x_new,y_new,GradientBoostingClassifier))\n",
        "print(accuracy_checking(x_new,y_new,XGBClassifier))"
      ]
    },
    {
      "cell_type": "code",
      "execution_count": null,
      "metadata": {
        "id": "cfqF0O7sqMPH"
      },
      "outputs": [],
      "source": [
        "# we got good accuracy after oversampling\n",
        "# ExtraTreesClassifier and RandomForestClassifier both have good testing accuracy, but in training accuracy is overfitting.\n",
        "# so we want the reduce the overfitting.\n",
        "# RandomForestClassifier is good interpretability, so i select the algorithm"
      ]
    },
    {
      "cell_type": "code",
      "execution_count": null,
      "metadata": {
        "colab": {
          "base_uri": "https://localhost:8080/",
          "height": 118
        },
        "id": "-e67Kw9mqWxT",
        "outputId": "4a414f29-b879-4f2f-862f-dd1d4888b679"
      },
      "outputs": [],
      "source": [
        "# Get the high accuracy using Hyperparameter Tuning method with using of the GridsearchCV\n",
        "\n",
        "x_train, x_test, y_train, y_test= train_test_split(x_new,y_new, test_size= 0.2, random_state=42)\n",
        "\n",
        "parameters= {\"max_depth\": [2,5,10,20],\n",
        "             \"min_samples_split\": [2,5,10],\n",
        "             \"min_samples_leaf\": [1,2,4],\n",
        "             \"max_features\": ['sqrt', 'log2', None]}\n",
        "\n",
        "gridsearch= GridSearchCV(estimator= RandomForestClassifier(), param_grid= parameters, cv= 5, n_jobs= -1)\n",
        "gridsearch.fit(x_train,y_train)"
      ]
    },
    {
      "cell_type": "code",
      "execution_count": null,
      "metadata": {
        "colab": {
          "base_uri": "https://localhost:8080/"
        },
        "id": "VBEpS4kJsgC1",
        "outputId": "146f6284-621f-4425-ed4c-9469eab73a1b"
      },
      "outputs": [],
      "source": [
        "gridsearch.cv_results_"
      ]
    },
    {
      "cell_type": "code",
      "execution_count": null,
      "metadata": {
        "colab": {
          "base_uri": "https://localhost:8080/"
        },
        "id": "2pky1nVus68y",
        "outputId": "af99b9c8-a2f0-4252-e437-3097d60be05c"
      },
      "outputs": [],
      "source": [
        "gridsearch.best_score_"
      ]
    },
    {
      "cell_type": "code",
      "execution_count": null,
      "metadata": {
        "colab": {
          "base_uri": "https://localhost:8080/"
        },
        "id": "reqKCobhs_ic",
        "outputId": "ea6766a7-d66a-4d58-a4db-36af8ba4be46"
      },
      "outputs": [],
      "source": [
        "gridsearch.best_params_"
      ]
    },
    {
      "cell_type": "code",
      "execution_count": null,
      "metadata": {
        "id": "3q-eV02TtDlJ"
      },
      "outputs": [],
      "source": [
        "# Passing the best Hypertuning paramers in the ,\n",
        "# RandomForest algorithm and check the accuracy for training and testing"
      ]
    },
    {
      "cell_type": "code",
      "execution_count": null,
      "metadata": {
        "colab": {
          "base_uri": "https://localhost:8080/"
        },
        "id": "jGjBr8aytk-D",
        "outputId": "419aaa22-682a-411f-a0a6-5898f35f1bb1"
      },
      "outputs": [],
      "source": [
        "x_train, x_test, y_train, y_test= train_test_split(x_new, y_new, test_size= 0.2, random_state= 42)\n",
        "\n",
        "model= RandomForestClassifier(max_depth=20, max_features= None, min_samples_leaf=1, min_samples_split=2).fit(x_train,y_train)\n",
        "\n",
        "y_pred_train= model.predict(x_train)\n",
        "y_pred_test= model.predict(x_test)\n",
        "\n",
        "#checking the accuracy_score for train and test\n",
        "\n",
        "accuracy_train= accuracy_score(y_train, y_pred_train)\n",
        "accuracy_test= accuracy_score(y_test, y_pred_test)\n",
        "\n",
        "print(\"Accuracy score for Train and Test\")\n",
        "print(\"----------------------------------\")\n",
        "print(\"Accuracy_Train: \",accuracy_train)\n",
        "print(\"Accuracy_Test: \",accuracy_test)\n",
        "print(\"  \")\n",
        "#confution matrics and the classification report for test\n",
        "\n",
        "print(\"Confution_matrix for Test\")\n",
        "print(\"--------------------------\")\n",
        "print(confusion_matrix(y_true= y_test, y_pred= y_pred_test))\n",
        "print(\" \")\n",
        "print(\"Classification_report for Test\")\n",
        "print(\"-------------------------------\")\n",
        "print(classification_report(y_true= y_test, y_pred= y_pred_test))\n",
        "\n"
      ]
    },
    {
      "cell_type": "code",
      "execution_count": null,
      "metadata": {
        "id": "VTUI_fmq0odW"
      },
      "outputs": [],
      "source": [
        "# now the training accuracy overfitting reduced. so now model will predict effectively for unseen data"
      ]
    },
    {
      "cell_type": "code",
      "execution_count": null,
      "metadata": {
        "colab": {
          "base_uri": "https://localhost:8080/"
        },
        "id": "5XnbtpTR0pOi",
        "outputId": "532ff37d-5a12-4ef6-befb-dcf7bba5893d"
      },
      "outputs": [],
      "source": [
        "# Receiver Operating Characteristic (ROC) Curve and Area Under the Curve (AUC)\n",
        "\n",
        "FP,TP,threshold= roc_curve(y_true= y_test, y_score=y_pred_test)\n",
        "print(threshold)\n",
        "print(FP)\n",
        "print(TP)\n",
        "print(\" \")\n",
        "auc_curve= auc(x=FP,y=TP)\n",
        "print(\"auc_curve:\",auc_curve)"
      ]
    },
    {
      "cell_type": "code",
      "execution_count": null,
      "metadata": {
        "colab": {
          "base_uri": "https://localhost:8080/",
          "height": 449
        },
        "id": "tTMoPoiu4eKM",
        "outputId": "99007813-438c-47c3-a4cd-3243c334ab2e"
      },
      "outputs": [],
      "source": [
        "# create a plot for roc and auc curve\n",
        "roc_point= {\"ROC Curve (area)\":round(auc_curve,2)}\n",
        "plt.plot(FP,TP,label= roc_point)\n",
        "plt.xlim([0.0, 1.0])\n",
        "plt.ylim([0.0, 1.1])\n",
        "plt.xlabel(\"False Positive\")\n",
        "plt.ylabel(\"True Positive\")\n",
        "plt.plot([0,1],[0,1],\"k--\")\n",
        "plt.legend(loc= \"lower right\")\n",
        "plt.show()"
      ]
    },
    {
      "cell_type": "code",
      "execution_count": null,
      "metadata": {
        "colab": {
          "base_uri": "https://localhost:8080/"
        },
        "id": "RInKokaZBGZt",
        "outputId": "a35187ba-1f5e-4328-9cf7-6dfb7c43ac79"
      },
      "outputs": [],
      "source": [
        "user_data = np.array([[30153963, 30, 6, 28, 952, 628377, 5.9, -0.96, 6.46, 1,4,2021,1,1,2021]])\n",
        "y_pred_user= model.predict(user_data)\n",
        "if y_pred_user == 1:\n",
        "    print(\"Won\")\n",
        "else:\n",
        "    print(\"Lose\")"
      ]
    },
    {
      "cell_type": "code",
      "execution_count": null,
      "metadata": {
        "id": "W1BhFbTsBGU8"
      },
      "outputs": [],
      "source": [
        "#saving the model using the pickle\n",
        "\n",
        "with open(\"Classification_model.pkl\",\"wb\") as f:\n",
        "    pickle.dump(model,f)"
      ]
    },
    {
      "cell_type": "code",
      "execution_count": null,
      "metadata": {
        "id": "h-9OwTKcBGN7"
      },
      "outputs": [],
      "source": [
        "with open(\"/content/Classification_model.pkl\",\"rb\") as f1:\n",
        "  class_model= pickle.load(f1)"
      ]
    },
    {
      "cell_type": "code",
      "execution_count": null,
      "metadata": {
        "colab": {
          "base_uri": "https://localhost:8080/"
        },
        "id": "VABBn9a_GcE0",
        "outputId": "e3b456dc-e91d-4c36-b60f-5abfd4cde063"
      },
      "outputs": [],
      "source": [
        "user_data = np.array([[77.0,3.0,10.0,1500.0,164141591,3.677655,17.222226,0.000000,7.110696,1,4,2021,1,8,2021]])\n",
        "y_pred_user= class_model.predict(user_data)\n",
        "\n",
        "if y_pred_user == 1:\n",
        "    print(\"Won\")\n",
        "else:\n",
        "    print(\"Lose\")"
      ]
    },
    {
      "cell_type": "code",
      "execution_count": null,
      "metadata": {
        "colab": {
          "base_uri": "https://localhost:8080/",
          "height": 583
        },
        "id": "SJJ07gp_tHL8",
        "outputId": "cc8e8da6-ffca-4abe-e42e-e507c547f3c0"
      },
      "outputs": [],
      "source": [
        "corr= df_final.corr()\n",
        "plt.figure(figsize=(15,5))\n",
        "sns.heatmap(corr,annot= True, fmt=\"0.2f\")\n",
        "plt.show()"
      ]
    },
    {
      "cell_type": "markdown",
      "metadata": {
        "id": "0Tw5zMmuL-cH"
      },
      "source": [
        "# **Regression Method - Predict the Selling Price**"
      ]
    },
    {
      "cell_type": "code",
      "execution_count": null,
      "metadata": {
        "id": "kj_sGc3aBF1A"
      },
      "outputs": [],
      "source": [
        "#packages\n",
        "\n",
        "from sklearn.model_selection import train_test_split,GridSearchCV\n",
        "from sklearn.metrics import mean_absolute_error,mean_squared_error,r2_score\n",
        "\n",
        "from sklearn.tree import DecisionTreeRegressor\n",
        "from sklearn.ensemble import RandomForestRegressor\n",
        "from sklearn.ensemble import ExtraTreesRegressor\n",
        "from sklearn.ensemble import AdaBoostRegressor\n",
        "from sklearn.ensemble import GradientBoostingRegressor\n",
        "from xgboost import XGBRegressor"
      ]
    },
    {
      "cell_type": "code",
      "execution_count": null,
      "metadata": {
        "id": "KdWpfwjFLijs"
      },
      "outputs": [],
      "source": [
        "df_regg= df_final.copy()"
      ]
    },
    {
      "cell_type": "code",
      "execution_count": null,
      "metadata": {
        "id": "6arWkW3RLiY4"
      },
      "outputs": [],
      "source": [
        "#Find the best ML model to predict the selling price\n",
        "\n",
        "def accuracy_regressor(df,algorithm):\n",
        "\n",
        "  x= df.drop(columns=[\"selling_price_log\"], axis=1)\n",
        "  y= df[\"selling_price_log\"]\n",
        "\n",
        "  #train test splitting\n",
        "  x_train,x_test, y_train, y_test= train_test_split(x,y, test_size= 0.2, random_state=42)\n",
        "  model= algorithm().fit(x_train, y_train)\n",
        "\n",
        "  y_pred_train= model.predict(x_train)\n",
        "  y_pred_test= model.predict(x_test)\n",
        "\n",
        "  r2_train= r2_score(y_train, y_pred_train)\n",
        "  r2_test= r2_score(y_test, y_pred_test)\n",
        "\n",
        "  metrics={\"Algorithm\":algorithm.__name__,\n",
        "           \"R2_Train\": r2_train,\n",
        "           \"R2_Test\": r2_test}\n",
        "\n",
        "  return metrics"
      ]
    },
    {
      "cell_type": "code",
      "execution_count": null,
      "metadata": {
        "colab": {
          "base_uri": "https://localhost:8080/"
        },
        "id": "pXw85TYRLiSf",
        "outputId": "5348233e-5860-4bb1-fa7a-15239162544d"
      },
      "outputs": [],
      "source": [
        "print(accuracy_regressor(df_regg, DecisionTreeRegressor))\n",
        "print(accuracy_regressor(df_regg, RandomForestRegressor))\n",
        "print(accuracy_regressor(df_regg, ExtraTreesRegressor))\n",
        "print(accuracy_regressor(df_regg, AdaBoostRegressor))\n",
        "print(accuracy_regressor(df_regg, GradientBoostingRegressor))\n",
        "print(accuracy_regressor(df_regg, XGBRegressor))"
      ]
    },
    {
      "cell_type": "code",
      "execution_count": null,
      "metadata": {
        "id": "KtJYpIvBLiOB"
      },
      "outputs": [],
      "source": [
        "# ExtraTreesClassifier and RandomForestClassifier both have good testing accuracy, but in training accuracy is overfitting.\n",
        "# RandomForestClassifier is good interpretability, so i select the algorithm"
      ]
    },
    {
      "cell_type": "code",
      "execution_count": null,
      "metadata": {
        "colab": {
          "base_uri": "https://localhost:8080/",
          "height": 172
        },
        "id": "fagTaFZjLiJP",
        "outputId": "53383e13-a92b-4c17-cb39-c3c5896a0ad3"
      },
      "outputs": [],
      "source": [
        "x= df_regg.drop(columns=[\"selling_price_log\"], axis=1)\n",
        "y= df_regg[\"selling_price_log\"]\n",
        "\n",
        "x_train, x_test, y_train, y_test= train_test_split(x,y, test_size= 0.2, random_state= 42)\n",
        "\n",
        "parameters_r= {\"max_depth\": [2,4,10,20],\n",
        "               \"min_samples_split\": [2,5,10],\n",
        "               \"min_samples_leaf\": [1,2,4],\n",
        "               \"max_features\": [\"sqrt\",\"log2\",None]}\n",
        "\n",
        "gridsearch_r= GridSearchCV(estimator= RandomForestRegressor(), param_grid= parameters_r, cv= 5,n_jobs=-1)\n",
        "gridsearch_r.fit(x_train, y_train)"
      ]
    },
    {
      "cell_type": "code",
      "execution_count": null,
      "metadata": {
        "colab": {
          "base_uri": "https://localhost:8080/"
        },
        "id": "6_9wgdXITcjJ",
        "outputId": "f56e9563-7c6f-4ac3-cd20-9a06dd2d0a56"
      },
      "outputs": [],
      "source": [
        "gridsearch_r.cv_results_"
      ]
    },
    {
      "cell_type": "code",
      "execution_count": null,
      "metadata": {
        "colab": {
          "base_uri": "https://localhost:8080/"
        },
        "id": "Yu2W_qC1ThbP",
        "outputId": "e2b12d0b-0654-4091-b6ce-dcd17bed0ccd"
      },
      "outputs": [],
      "source": [
        "gridsearch_r.best_score_"
      ]
    },
    {
      "cell_type": "code",
      "execution_count": null,
      "metadata": {
        "colab": {
          "base_uri": "https://localhost:8080/"
        },
        "id": "sz9dEg09Tkwi",
        "outputId": "0e94f31a-8114-4a54-8357-4bc2e36fbabf"
      },
      "outputs": [],
      "source": [
        "gridsearch_r.best_params_"
      ]
    },
    {
      "cell_type": "code",
      "execution_count": null,
      "metadata": {
        "colab": {
          "base_uri": "https://localhost:8080/"
        },
        "id": "u59sDrRYToOp",
        "outputId": "8ccc7594-3919-41e2-f010-548926aaf3f3"
      },
      "outputs": [],
      "source": [
        "# pass the parameters and check the accuracy for both training and testing & overfitting\n",
        "\n",
        "x = df_regg.drop(columns=['selling_price_log'], axis=1)\n",
        "y = df_regg['selling_price_log']\n",
        "x_train, x_test, y_train, y_test = train_test_split(x,y,test_size=0.2,random_state=42)\n",
        "\n",
        "model_r = RandomForestRegressor(max_depth=20, max_features=None, min_samples_leaf=1, min_samples_split=2).fit(x_train, y_train)\n",
        "y_pred_train = model_r.predict(x_train)\n",
        "y_pred_test = model_r.predict(x_test)\n",
        "\n",
        "r2_train = r2_score(y_train, y_pred_train)\n",
        "r2_test = r2_score(y_test, y_pred_test)\n",
        "r2_train, r2_test\n"
      ]
    },
    {
      "cell_type": "code",
      "execution_count": null,
      "metadata": {
        "colab": {
          "base_uri": "https://localhost:8080/"
        },
        "id": "l6Ihc54tUL6P",
        "outputId": "f43f10ea-9864-4702-a1ab-851a98db564e"
      },
      "outputs": [],
      "source": [
        "#predict the selling price with hypertuning parameters and calculate the accuracy using metrics\n",
        "\n",
        "x = df_regg.drop(columns=['selling_price_log'], axis=1)\n",
        "y = df_regg['selling_price_log']\n",
        "x_train, x_test, y_train, y_test = train_test_split(x,y,test_size=0.2,random_state=42)\n",
        "\n",
        "model_r = RandomForestRegressor(max_depth=20, max_features=None, min_samples_leaf=1, min_samples_split=2).fit(x_train, y_train)\n",
        "y_pred = model_r.predict(x_test)\n",
        "\n",
        "mse = mean_squared_error(y_test, y_pred)\n",
        "rmse = np.sqrt(mse)\n",
        "r2 = r2_score(y_test, y_pred)\n",
        "mae = mean_absolute_error(y_test, y_pred)\n",
        "\n",
        "metrics_r = {'R2': r2,\n",
        "           'Mean Absolute Error': mae,\n",
        "           'Mean Squared Error': mse,\n",
        "           'Root Mean Squared Error': rmse}\n",
        "\n",
        "metrics_r"
      ]
    },
    {
      "cell_type": "code",
      "execution_count": null,
      "metadata": {
        "colab": {
          "base_uri": "https://localhost:8080/"
        },
        "id": "mDpxkzedVyf4",
        "outputId": "3715d9a8-9a26-4276-b299-5bc5957a9c58"
      },
      "outputs": [],
      "source": [
        "user_data = np.array([[30202938,25,1,5,41,1210,1668701718,6.6,-0.2,1,4,2021,1,4,2021]])\n",
        "y_pred = model_r.predict(user_data)\n",
        "print(\"Predicted selling price with Log: \",y_pred[0])\n",
        "print(\"Predicted selling price without Log: \",np.exp(y_pred[0]))\n"
      ]
    },
    {
      "cell_type": "code",
      "execution_count": null,
      "metadata": {
        "id": "U3wze05Zfw6n"
      },
      "outputs": [],
      "source": [
        "import pickle"
      ]
    },
    {
      "cell_type": "code",
      "execution_count": null,
      "metadata": {
        "id": "QZAUbL8gZOE4"
      },
      "outputs": [],
      "source": [
        "with open(\"Regression_Model.pkl\",\"wb\") as r:\n",
        "  pickle.dump(model_r,r)"
      ]
    },
    {
      "cell_type": "code",
      "execution_count": null,
      "metadata": {
        "id": "7S_QDhpEf3po"
      },
      "outputs": [],
      "source": [
        "with open(\"Regression_Model.pkl\",\"rb\") as r1:\n",
        "  regg_model=pickle.load(r1)"
      ]
    },
    {
      "cell_type": "code",
      "execution_count": null,
      "metadata": {
        "colab": {
          "base_uri": "https://localhost:8080/",
          "height": 244
        },
        "id": "rVgILKakgqSo",
        "outputId": "a2c62115-2f35-4bc1-e36a-9f7f24e13f76"
      },
      "outputs": [],
      "source": [
        "df_final.head()"
      ]
    },
    {
      "cell_type": "code",
      "execution_count": null,
      "metadata": {
        "colab": {
          "base_uri": "https://localhost:8080/"
        },
        "id": "thWWNhgyf-RN",
        "outputId": "754a7107-e20e-4d03-d6ed-e6a3d9f43042"
      },
      "outputs": [],
      "source": [
        "user_data = np.array([[28.0,1,5.0,10.0,1500.0,1670798778,3.991779,17.221905,0.693147,1,4,2021,1,7,2021]])\n",
        "y_pred = regg_model.predict(user_data)\n",
        "print(\"Predicted selling price with Log: \",y_pred[0])\n",
        "print(\"Predicted selling price without Log: \",np.exp(y_pred[0]))"
      ]
    }
  ],
  "metadata": {
    "colab": {
      "provenance": []
    },
    "kernelspec": {
      "display_name": "Python 3",
      "name": "python3"
    },
    "language_info": {
      "codemirror_mode": {
        "name": "ipython",
        "version": 3
      },
      "file_extension": ".py",
      "mimetype": "text/x-python",
      "name": "python",
      "nbconvert_exporter": "python",
      "pygments_lexer": "ipython3",
      "version": "3.12.0"
    }
  },
  "nbformat": 4,
  "nbformat_minor": 0
}
